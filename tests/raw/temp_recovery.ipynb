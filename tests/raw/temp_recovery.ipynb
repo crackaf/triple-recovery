{
 "cells": [
  {
   "cell_type": "code",
   "execution_count": null,
   "metadata": {},
   "outputs": [],
   "source": [
    "from matplotlib import pyplot as plt\n",
    "from PIL import Image\n",
    "import numpy as np\n",
    "import pandas as pd\n",
    "import time\n",
    "import cv2\n",
    "from os import walk\n",
    "import triplerecovery as tr\n",
    "from triplerecovery.constants import LOOKUPS\n"
   ]
  },
  {
   "cell_type": "code",
   "execution_count": null,
   "metadata": {},
   "outputs": [],
   "source": [
    "imarr = cv2.imread('./images/standard/lena_gray_512.tif', cv2.IMREAD_GRAYSCALE)\n"
   ]
  },
  {
   "cell_type": "code",
   "execution_count": null,
   "metadata": {},
   "outputs": [],
   "source": [
    "zoomx = 4  # according to the paper the zoom factor is 4\n",
    "averages = cv2.resize(imarr, None, fx=1/zoomx, fy=1 /\n",
    "                      zoomx, interpolation=cv2.INTER_AREA)\n",
    "averages = tr.blocks.make(\n",
    "    averages, (averages.shape[0]//zoomx, averages.shape[1]//zoomx), addChannel=False)\n",
    "# averages = averages.reshape(16, 32,32)\n",
    "averages.shape\n"
   ]
  },
  {
   "cell_type": "code",
   "execution_count": null,
   "metadata": {},
   "outputs": [],
   "source": [
    "Image.fromarray(averages[9])\n"
   ]
  },
  {
   "cell_type": "code",
   "execution_count": null,
   "metadata": {},
   "outputs": [],
   "source": [
    "recbits = tr.bits.recovery.make(imarr, LOOKUPS[0], key=\"\")\n"
   ]
  },
  {
   "cell_type": "code",
   "execution_count": null,
   "metadata": {},
   "outputs": [],
   "source": [
    "ER = tr.embed(imarr)\n",
    "embedded = ER.imarr.copy()\n"
   ]
  },
  {
   "cell_type": "code",
   "execution_count": null,
   "metadata": {},
   "outputs": [],
   "source": [
    "Image.fromarray(embedded)\n"
   ]
  },
  {
   "cell_type": "markdown",
   "metadata": {},
   "source": [
    "checking the embedding of recovery bits is correct\n"
   ]
  },
  {
   "cell_type": "code",
   "execution_count": null,
   "metadata": {},
   "outputs": [],
   "source": [
    "exrecbits = tr.bits.recovery.extract(embedded, key=\"\")\n"
   ]
  },
  {
   "cell_type": "code",
   "execution_count": null,
   "metadata": {},
   "outputs": [],
   "source": [
    "exrecbits.shape, recbits.shape\n"
   ]
  },
  {
   "cell_type": "code",
   "execution_count": null,
   "metadata": {},
   "outputs": [],
   "source": [
    "(exrecbits == recbits).all()\n"
   ]
  },
  {
   "cell_type": "markdown",
   "metadata": {},
   "source": [
    "make image from these bits\n"
   ]
  },
  {
   "cell_type": "code",
   "execution_count": null,
   "metadata": {},
   "outputs": [],
   "source": [
    "exrecbits = np.packbits(exrecbits, axis=1)\n",
    "exrecbits.shape\n"
   ]
  },
  {
   "cell_type": "code",
   "execution_count": null,
   "metadata": {},
   "outputs": [],
   "source": [
    "128*2\n"
   ]
  },
  {
   "cell_type": "code",
   "execution_count": null,
   "metadata": {},
   "outputs": [],
   "source": [
    "print(embedded.shape)\n",
    "startx = 0\n",
    "starty = 0\n",
    "height = 380\n",
    "width = 512\n",
    "\n",
    "for i in range(height):\n",
    "    for j in range(width):\n",
    "        embedded[startx+j][starty+i] = 0\n"
   ]
  },
  {
   "cell_type": "code",
   "execution_count": null,
   "metadata": {},
   "outputs": [],
   "source": [
    "Image.fromarray(embedded)\n"
   ]
  },
  {
   "cell_type": "code",
   "execution_count": null,
   "metadata": {},
   "outputs": [],
   "source": [
    "# authenticate\n",
    "AU = tr.authenticate(embedded)\n"
   ]
  },
  {
   "cell_type": "code",
   "execution_count": null,
   "metadata": {},
   "outputs": [],
   "source": [
    "Image.fromarray(AU.maskarr)\n"
   ]
  },
  {
   "cell_type": "code",
   "execution_count": null,
   "metadata": {},
   "outputs": [],
   "source": [
    "Image.fromarray(tr.recover(embedded).imarr)"
   ]
  },
  {
   "cell_type": "code",
   "execution_count": null,
   "metadata": {},
   "outputs": [],
   "source": [
    "raise Exception(\"asd\")"
   ]
  },
  {
   "cell_type": "code",
   "execution_count": null,
   "metadata": {},
   "outputs": [],
   "source": [
    "# parasms\n",
    "lookup = LOOKUPS[0]\n",
    "recovery_bits = tr.bits.recovery.extract(embedded, key=\"\")\n",
    "tempred = AU.tempred.copy()\n"
   ]
  },
  {
   "cell_type": "code",
   "execution_count": null,
   "metadata": {},
   "outputs": [],
   "source": [
    "res = recovery_bits == recbits\n",
    "for idx, i in enumerate(~res):\n",
    "    print(idx, np.any(i))\n"
   ]
  },
  {
   "cell_type": "code",
   "execution_count": null,
   "metadata": {},
   "outputs": [],
   "source": [
    "tempred.shape\n"
   ]
  },
  {
   "cell_type": "code",
   "execution_count": null,
   "metadata": {},
   "outputs": [],
   "source": [
    "for idx, i in enumerate(tempred):\n",
    "    print(idx, np.any(i))\n"
   ]
  },
  {
   "cell_type": "code",
   "execution_count": null,
   "metadata": {},
   "outputs": [],
   "source": [
    "[0, 1, 22]\n"
   ]
  },
  {
   "cell_type": "code",
   "execution_count": null,
   "metadata": {},
   "outputs": [],
   "source": [
    "# [0, 1, 2, 3],\n",
    "# [4, 5, 6, 7],\n",
    "# [8, 9, 10, 11],\n",
    "# [12, 13, 14, 15]\n",
    "\n",
    "lookup\n"
   ]
  },
  {
   "cell_type": "code",
   "execution_count": null,
   "metadata": {},
   "outputs": [],
   "source": [
    "# 0 is tempred\n",
    "# partner 0 id 0 = 0 partner_block (0, 1) = 7->0,13,10 idx 0 rshape (16, 24576) range 0 8192\n",
    "# 12 is tempred\n",
    "# partner 1 id 2 = 12 partner_block (1, 0) = 1->6,12,11 idx 1 rshape (16, 24576) range 8192 16384\n",
    "# 4 is tempred\n",
    "# partner 2 id 0 = 4 partner_block (2, 1) = 2->4,9,15 idx 0 rshape (16, 24576) range 0 8192\n",
    "# 8 is tempred\n",
    "# partner 3 id 2 = 8 partner_block (3, 0) = 5->3,8,14 idx 1 rshape (16, 24576) range 8192 16384\n"
   ]
  },
  {
   "cell_type": "code",
   "execution_count": null,
   "metadata": {},
   "outputs": [],
   "source": [
    "imarr = embedded.copy()\n"
   ]
  },
  {
   "cell_type": "code",
   "execution_count": null,
   "metadata": {},
   "outputs": [],
   "source": [
    "zoomx = 4  # according to the paper the zoom factor is 4\n",
    "average_bits_imarr = cv2.resize(imarr, None, fx=1/zoomx, fy=1 /\n",
    "                                zoomx, interpolation=cv2.INTER_AREA)\n",
    "average_bits_imarr = tr.blocks.make(\n",
    "    average_bits_imarr, (imarr.shape[0]//zoomx, imarr.shape[1]//zoomx), addChannel=False).reshape(16, -1)\n",
    "average_bits_imarr = np.unpackbits(average_bits_imarr, axis=1)\n",
    "\n",
    "# filling from the recovery bits\n",
    "average_bits = np.zeros(\n",
    "    (recovery_bits.shape[0], recovery_bits.shape[1]//3), dtype=np.uint8)\n",
    "\n",
    "for partner in range(lookup.shape[0]):  # A,B,C,D\n",
    "    for id in range(lookup.shape[1]):  # A1,A2,A3.....D4 etc\n",
    "        # if not np.any(tempred[lookup[partner, id]]):\n",
    "        #     # this means that we can pick the averages from the average_bits_imarr\n",
    "        #     # print(\"using average bits\", partner, id)\n",
    "        #     # average_bits[lookup[partner, id]\n",
    "        #     #               ] = average_bits_imarr[lookup[partner, id]]\n",
    "        #     continue\n",
    "        print(lookup[partner, id], \"is tempred\")\n",
    "        # get the partner block of this id also the id it sits\n",
    "        partner_block = -1, -1\n",
    "        for i in range(lookup[partner].shape[0]):\n",
    "            # if this id isn't tempred, we can stop\n",
    "            if i != id and not np.any(tempred[lookup[partner, i]]):\n",
    "                partner_block = partner, i\n",
    "                break\n",
    "\n",
    "        if partner_block == (-1, -1):\n",
    "            print(\n",
    "                \"Could not find partner block for partner\", partner, \"id\", id, \"=\", lookup[partner, id])\n",
    "            continue\n",
    "\n",
    "        # get recovery bits of this id\n",
    "        # get index of this id in the partner block\n",
    "        idx = id\n",
    "        if partner_block[1] <= id:\n",
    "            idx -= 1\n",
    "\n",
    "        # length checking\n",
    "        # if idx*recovery_bits.shape[1]//3 >= recovery_bits.shape[1] or idx*recovery_bits.shape[1]//3+recovery_bits.shape[1]//3 > recovery_bits.shape[1]:\n",
    "        #     print(\"Length error for partner\", partner,\n",
    "        #           \"id\", id, \"=\", lookup[partner, id])\n",
    "        #     print(\"idx\", idx, \"out of range\")\n",
    "        #     continue\n",
    "\n",
    "        # now we have partner_block, so we can recover it\n",
    "        # get the recovery bits of this partner block\n",
    "        _start = idx*recovery_bits.shape[1]//3\n",
    "        _end = _start+recovery_bits.shape[1]//3\n",
    "        print(\"partner\", partner, \"id\", id, \"=\", lookup[partner, id], \"partner_block\", partner_block, \"idx\",\n",
    "              idx, \"rshape\", recovery_bits.shape, \"range\", _start, _end)\n",
    "        average_bits[lookup[partner, id]\n",
    "                     ] = recovery_bits[lookup[partner_block], _start:_end]\n",
    "\n",
    "# now we have the average bits, so we can recreate the averages and then image\n",
    "\n",
    "# back to decimals\n",
    "averages = np.packbits(average_bits, axis=1)\n",
    "kk = averages.reshape(imarr.shape[0]//4, imarr.shape[1]//4)\n"
   ]
  },
  {
   "cell_type": "code",
   "execution_count": null,
   "metadata": {},
   "outputs": [],
   "source": [
    "# 0 is tempred\n",
    "# partner 0 id 0 = 0 partner_block (0, 1) = 7->0,13,10 idx 0 rshape (16, 24576) range 0 8192\n",
    "# 12 is tempred\n",
    "# partner 1 id 2 = 12 partner_block (1, 0) = 1->6,12,11 idx 1 rshape (16, 24576) range 8192 16384\n",
    "# 4 is tempred\n",
    "# partner 2 id 0 = 4 partner_block (2, 1) = 2->4,9,15 idx 0 rshape (16, 24576) range 0 8192\n",
    "# 8 is tempred\n",
    "# partner 3 id 2 = 8 partner_block (3, 0) = 5->3,8,14 idx 1 rshape (16, 24576) range 8192 16384\n"
   ]
  },
  {
   "cell_type": "code",
   "execution_count": null,
   "metadata": {},
   "outputs": [],
   "source": [
    "averages.shape\n"
   ]
  },
  {
   "cell_type": "code",
   "execution_count": null,
   "metadata": {},
   "outputs": [],
   "source": [
    "Image.fromarray(tr.blocks.combine(averages.reshape(\n",
    "    16, 32, 32), (128, 128), (32, 32), channel=False))\n"
   ]
  },
  {
   "cell_type": "code",
   "execution_count": null,
   "metadata": {},
   "outputs": [],
   "source": [
    "np.packbits(recovery_bits[lookup[0, 1], 0:8192]).reshape(16, -1).shape\n"
   ]
  },
  {
   "cell_type": "code",
   "execution_count": null,
   "metadata": {},
   "outputs": [],
   "source": [
    "Image.fromarray(tr.blocks.combine(np.packbits(\n",
    "    recovery_bits[lookup[0, 1], 0:8192]).reshape(16, 8, 8), (32, 32), (8, 8), channel=False))\n"
   ]
  },
  {
   "cell_type": "code",
   "execution_count": null,
   "metadata": {},
   "outputs": [],
   "source": [
    "Image.fromarray(kk)\n"
   ]
  },
  {
   "cell_type": "code",
   "execution_count": null,
   "metadata": {},
   "outputs": [],
   "source": [
    "Image.fromarray(cv2.resize((averages[9].reshape(32, 32)),\n",
    "                           None, fx=4, fy=4, interpolation=cv2.INTER_LANCZOS4))\n"
   ]
  },
  {
   "cell_type": "code",
   "execution_count": null,
   "metadata": {},
   "outputs": [],
   "source": [
    "x = tr.blocks.combine(averages[9].reshape(\n",
    "    64, 4, 4), (32, 32), (4, 4), channel=False)\n",
    "x.shape\n"
   ]
  },
  {
   "cell_type": "code",
   "execution_count": null,
   "metadata": {},
   "outputs": [],
   "source": [
    "Image.fromarray(x)\n"
   ]
  },
  {
   "cell_type": "code",
   "execution_count": null,
   "metadata": {},
   "outputs": [],
   "source": [
    "Image.fromarray(cv2.resize(x,\n",
    "                           None, fx=4, fy=4, interpolation=cv2.INTER_LANCZOS4))\n"
   ]
  }
 ],
 "metadata": {
  "kernelspec": {
   "display_name": "Python 3.10.4 64-bit",
   "language": "python",
   "name": "python3"
  },
  "language_info": {
   "codemirror_mode": {
    "name": "ipython",
    "version": 3
   },
   "file_extension": ".py",
   "mimetype": "text/x-python",
   "name": "python",
   "nbconvert_exporter": "python",
   "pygments_lexer": "ipython3",
   "version": "3.10.4"
  },
  "orig_nbformat": 4,
  "vscode": {
   "interpreter": {
    "hash": "916dbcbb3f70747c44a77c7bcd40155683ae19c65e1c03b4aa3499c5328201f1"
   }
  }
 },
 "nbformat": 4,
 "nbformat_minor": 2
}
