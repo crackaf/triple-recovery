{
 "cells": [
  {
   "cell_type": "code",
   "execution_count": null,
   "metadata": {},
   "outputs": [],
   "source": [
    "import numpy as np\n",
    "import cv2\n",
    "from PIL import Image\n",
    "import time\n",
    "\n",
    "from triplerecovery import bits, utils, embed, authenticate, recover"
   ]
  },
  {
   "cell_type": "code",
   "execution_count": null,
   "metadata": {},
   "outputs": [],
   "source": [
    "key = \"this is key\"\n",
    "ekey = \"this is key\""
   ]
  },
  {
   "cell_type": "code",
   "execution_count": null,
   "metadata": {},
   "outputs": [],
   "source": [
    "imagepath = './cat.jpg'\n",
    "\n",
    "start_t = time.time()\n",
    "\n",
    "imarr=np.array(Image.open(imagepath).convert('L'))\n",
    "imread_t = time.time()\n",
    "\n",
    "lookup = np.array([[0, 7, 13, 10],\n",
    "                    [1, 6, 12, 11],\n",
    "                    [4, 2, 9, 15],\n",
    "                    [5, 3, 8, 14]], dtype=np.uint8)\n",
    "\n",
    "# make recoverybits\n",
    "recovery_bits = bits.recovery .make(imarr, lookup, key)\n",
    "lla = bits.recovery.embed(imarr, recovery_bits)\n",
    "hashes = bits.authentication.make(lla)\n",
    "\n",
    "# embedding\n",
    "ER = embed(imarr, lookup, key=key)\n",
    "embedded = ER.imarr.copy()\n",
    "# authenticate\n",
    "# AU = authenticate(embedded)\n",
    "\n",
    "# extract recoverybits\n",
    "extracted_bits = bits.recovery.extract(embedded, ekey)\n",
    "# extract hashes\n",
    "exthashes = bits.authentication.extract(embedded)\n",
    "\n",
    "startx = 200\n",
    "starty = 200\n",
    "width = 10\n",
    "height = 10\n",
    "\n",
    "for i in range(width):\n",
    "    for j in range(height):\n",
    "        embedded[startx+i][starty+j] = 0\n",
    "        \n",
    "startx = 400\n",
    "starty = 400\n",
    "width = 200\n",
    "height = 200\n",
    "\n",
    "for i in range(width):\n",
    "    for j in range(height):\n",
    "        embedded[startx+i][starty+j] = 0\n",
    "\n",
    "    # authenticate\n",
    "AU = authenticate(embedded)\n",
    "\n"
   ]
  },
  {
   "cell_type": "code",
   "execution_count": null,
   "metadata": {},
   "outputs": [],
   "source": [
    "# RE = recover(embedded, lookup, key=ekey, interpolation=cv2.INTER_NEAREST)\n",
    "\n",
    "   "
   ]
  },
  {
   "cell_type": "code",
   "execution_count": null,
   "metadata": {},
   "outputs": [],
   "source": [
    "imarr=embedded.copy()"
   ]
  },
  {
   "cell_type": "code",
   "execution_count": null,
   "metadata": {},
   "outputs": [],
   "source": [
    "from triplerecovery import blocks, authenticate, bits"
   ]
  },
  {
   "cell_type": "code",
   "execution_count": null,
   "metadata": {},
   "outputs": [],
   "source": [
    "# extracting the recovery bits\n",
    "recovery_bits = bits.recovery.extract(imarr, key)\n",
    "# extracting the auth bits\n",
    "tempred = authenticate(imarr).tempred\n",
    "interpolation=cv2.INTER_NEAREST"
   ]
  },
  {
   "cell_type": "code",
   "execution_count": null,
   "metadata": {},
   "outputs": [],
   "source": [
    "lookup = np.array([\n",
    "        [0, 7, 13, 10],\n",
    "        [1, 6, 12, 11],\n",
    "        [4, 2, 9, 15],\n",
    "        [5, 3, 8, 14]], dtype=np.uint8)\n",
    "\n",
    "start_t = time.time()\n",
    "\n",
    "recoveredarr = imarr.copy()\n",
    "\n",
    "# only do if any of the blocks are tempred\n",
    "if np.any(tempred):\n",
    "\n",
    "    # converting the image to 16x16 blocks\n",
    "    # making 16 main blocks\n",
    "    # size of single main block S= M/sqrt(16) X T=N/sqrt(16)\n",
    "    # e.g for lena the 512x512 the partner blocks size would be 16 blocks each with size (512x512)/(4x4) = 128x128\n",
    "    mainblock_shape = (int(imarr.shape[0]/4), int(imarr.shape[1]/4))\n",
    "    mainblocks = blocks.make(imarr.copy(), mainblock_shape)\n",
    "\n",
    "    # here the main blocks are like this index.\n",
    "    # 1st index is the block number.\n",
    "    # 2nd index is the channel (RGB) or 0 in Grey.\n",
    "    # 3rd and 4th are for indexing the block.\n",
    "\n",
    "    # Making 16x16 for Step 8\n",
    "    # Dividing the main blocks to 16x16 blocks\n",
    "    # Total blocks = SxT/16x16 = 128x128/16x16 = 64 Blocks\n",
    "\n",
    "    b16x16_shape = (16, 16)\n",
    "    # reshaping because we needed that shape\n",
    "    b16x16 = mainblocks.reshape(\n",
    "        *mainblocks.shape[:-2],\n",
    "        int((mainblock_shape[0]*mainblock_shape[1]) /\n",
    "            (b16x16_shape[0]*b16x16_shape[1])),\n",
    "        b16x16_shape[0], b16x16_shape[1]).copy()\n",
    "\n",
    "    for i in range(mainblocks.shape[0]):\n",
    "        b16x16[i][0] = blocks.make(mainblocks[i][0], b16x16_shape,\n",
    "                                    addChannel=False)\n",
    "\n",
    "    for partner in range(lookup.shape[0]):  # A,B,C,D\n",
    "        for id in range(lookup.shape[1]):  # A1,A2,A3.....D4 etc\n",
    "            # check if this is tempred\n",
    "            if np.any(tempred[lookup[partner, id]]):\n",
    "                # this mainblock is tempred, so we need to recover it\n",
    "                # but which 16x16 block is tempred?\n",
    "\n",
    "                # get the partner block of this id also the id it sits\n",
    "                partner_block = -1, -1\n",
    "                for i in range(lookup[partner].shape[0]):\n",
    "                    # if this id isn't tempred, we can stop\n",
    "                    if i != id and not np.any(tempred[lookup[partner, i]]):\n",
    "                        partner_block = partner, i\n",
    "                        break\n",
    "\n",
    "                if partner_block == (-1, -1):\n",
    "                    print(\n",
    "                        \"Could not find partner block for {} {}\".format(partner, id))\n",
    "                    continue\n",
    "\n",
    "                # get recovery bits of this id\n",
    "                # get index of this id in the partner block\n",
    "                idx = id\n",
    "                if partner_block[1] < id:\n",
    "                    idx -= 1\n",
    "\n",
    "                # now we have partner_block, so we can recover it\n",
    "                # get the recovery bits of this partner block\n",
    "                recovery_bits_partner = recovery_bits[lookup[partner_block],\n",
    "                                                        idx*recovery_bits.shape[1]//3:idx*recovery_bits.shape[1]//3+recovery_bits.shape[1]//3]\n",
    "\n",
    "                # now we have recovrey bits the exact partner block\n",
    "                # but these are in binary, so we need to convert them to uint\n",
    "                recovery_decimals = np.packbits(recovery_bits_partner)\n",
    "\n",
    "                # these recovery bits are for all the main blocks 4x4\n",
    "                # but we are going to replace only the tempred 16x16\n",
    "\n",
    "                # shaping these recovery bits to the 16x16 blocks\n",
    "                _zoomshape = int(\n",
    "                    imarr.shape[0]/(4*4)), int(imarr.shape[1]/(4*4))\n",
    "                r16x16 = blocks.make(cv2.resize(\n",
    "                    recovery_decimals.reshape(\n",
    "                        _zoomshape), (_zoomshape[1]*4, _zoomshape[0]*4),\n",
    "                    interpolation=interpolation),\n",
    "                    b16x16_shape, addChannel=False\n",
    "                )\n",
    "\n",
    "                # now we repace which ever 16x16 block is tempred\n",
    "                for i in range(tempred[lookup[partner, id]].shape[0]):\n",
    "                    if tempred[lookup[partner, id], i]:\n",
    "                        # means this 16x16 block is tempred\n",
    "                        b16x16[lookup[partner, id], 0, i] = r16x16[i]\n",
    "\n",
    "    # combining the 16x16 blocks to the main blocks\n",
    "    # merging 16x16\n",
    "    cmainblocks = mainblocks.copy()\n",
    "    for i in range(cmainblocks.shape[0]):\n",
    "        cmainblocks[i][0] = blocks.combine(\n",
    "            b16x16[i][0], mainblock_shape, blockshape=b16x16_shape, channel=False)\n",
    "\n",
    "    # merging main blocks to main image\n",
    "    recoveredarr = blocks.combine(cmainblocks.copy(), imarr.shape,\n",
    "                                    mainblock_shape).reshape(imarr.shape)"
   ]
  },
  {
   "cell_type": "code",
   "execution_count": null,
   "metadata": {},
   "outputs": [],
   "source": [
    "imarr.shape"
   ]
  },
  {
   "cell_type": "code",
   "execution_count": null,
   "metadata": {},
   "outputs": [],
   "source": [
    "_zoomshape"
   ]
  },
  {
   "cell_type": "code",
   "execution_count": null,
   "metadata": {},
   "outputs": [],
   "source": [
    "320//16, 512//16, 320//4, 512//4"
   ]
  },
  {
   "cell_type": "code",
   "execution_count": null,
   "metadata": {},
   "outputs": [],
   "source": [
    "Image.fromarray(recovery_decimals.reshape(_zoomshape))"
   ]
  },
  {
   "cell_type": "code",
   "execution_count": null,
   "metadata": {},
   "outputs": [],
   "source": [
    "Image.fromarray(cv2.resize(\n",
    "                    recovery_decimals.reshape(\n",
    "                        _zoomshape), (_zoomshape[1]*4, _zoomshape[0]*4),\n",
    "                    interpolation=cv2.INTER_CUBIC))"
   ]
  },
  {
   "cell_type": "code",
   "execution_count": null,
   "metadata": {},
   "outputs": [],
   "source": [
    "cv2.resize(\n",
    "                    recovery_decimals.reshape(\n",
    "                        _zoomshape), (_zoomshape[0]*4, _zoomshape[1]*4),\n",
    "                    interpolation=interpolation)"
   ]
  },
  {
   "cell_type": "code",
   "execution_count": null,
   "metadata": {},
   "outputs": [],
   "source": []
  },
  {
   "cell_type": "code",
   "execution_count": null,
   "metadata": {},
   "outputs": [],
   "source": [
    "_zoomshape"
   ]
  },
  {
   "cell_type": "code",
   "execution_count": null,
   "metadata": {},
   "outputs": [],
   "source": [
    "recovery_decimals.shape"
   ]
  },
  {
   "cell_type": "code",
   "execution_count": null,
   "metadata": {},
   "outputs": [],
   "source": [
    "RE=recoveredarr.copy()"
   ]
  },
  {
   "cell_type": "code",
   "execution_count": null,
   "metadata": {},
   "outputs": [],
   "source": [
    "print(\"Time: \", time.time() - start_t)\n",
    "print(\"RE sum: \", (recovery_bits != extracted_bits).sum())\n",
    "print(\"RE hash sum: \", (hashes != exthashes).sum())\n",
    "print(\"RE hash emb: \", (RE != embedded).sum())\n",
    "print(\"PSNR: \", utils.psnr(embedded, imarr))\n",
    "print(\"PSNR recoverd: \", utils.psnr(RE, imarr))"
   ]
  },
  {
   "cell_type": "code",
   "execution_count": null,
   "metadata": {},
   "outputs": [],
   "source": [
    "# [imarr, imarr2, imarr3, imarr4, imarr5]= [imarr, ER.imarr, embedded, RE.imarr, AU.maskarr]\n",
    "# cv2.imshow(\"Original\", imarr)\n",
    "# cv2.imshow(\"Embedded\", imarr2)\n",
    "# cv2.imshow(\"Edited\", imarr3)\n",
    "# cv2.imshow(\"Recovered\", imarr4)\n",
    "# cv2.imshow(\"MASK\", imarr5)\n",
    "\n",
    "# cv2.waitKey(0)"
   ]
  },
  {
   "cell_type": "code",
   "execution_count": null,
   "metadata": {},
   "outputs": [],
   "source": [
    "tempred.sum()"
   ]
  },
  {
   "cell_type": "code",
   "execution_count": null,
   "metadata": {},
   "outputs": [],
   "source": [
    "Image.fromarray(embedded)"
   ]
  },
  {
   "cell_type": "code",
   "execution_count": null,
   "metadata": {},
   "outputs": [],
   "source": [
    "Image.fromarray(RE)"
   ]
  }
 ],
 "metadata": {
  "kernelspec": {
   "display_name": "Python 3.10.4 64-bit",
   "language": "python",
   "name": "python3"
  },
  "language_info": {
   "codemirror_mode": {
    "name": "ipython",
    "version": 3
   },
   "file_extension": ".py",
   "mimetype": "text/x-python",
   "name": "python",
   "nbconvert_exporter": "python",
   "pygments_lexer": "ipython3",
   "version": "3.10.4"
  },
  "orig_nbformat": 4,
  "vscode": {
   "interpreter": {
    "hash": "916dbcbb3f70747c44a77c7bcd40155683ae19c65e1c03b4aa3499c5328201f1"
   }
  }
 },
 "nbformat": 4,
 "nbformat_minor": 2
}
