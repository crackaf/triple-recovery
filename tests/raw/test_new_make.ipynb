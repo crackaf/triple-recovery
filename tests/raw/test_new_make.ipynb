{
 "cells": [
  {
   "cell_type": "code",
   "execution_count": null,
   "metadata": {},
   "outputs": [],
   "source": [
    "import numpy as np\n",
    "from triplerecovery.blocks import make as make_blocks\n",
    "from triplerecovery.utils import shuffle_under_seed\n",
    "import triplerecovery as tr\n",
    "from PIL import Image\n",
    "import cv2"
   ]
  },
  {
   "cell_type": "code",
   "execution_count": null,
   "metadata": {},
   "outputs": [],
   "source": [
    "# imarr=cv2.imread('./samples/art.png', cv2.IMREAD_GRAYSCALE)\n",
    "imarr = np.array(cv2.cvtColor(\n",
    "        cv2.VideoCapture('./samples/lena.gif').read()[1], cv2.COLOR_BGR2GRAY))\n",
    "lookup = np.array([[0, 7, 13, 10],\n",
    "                      [1, 6, 12, 11],\n",
    "                      [4, 2, 9, 15],\n",
    "                      [5, 3, 8, 14]], dtype=np.uint8)"
   ]
  },
  {
   "cell_type": "code",
   "execution_count": null,
   "metadata": {},
   "outputs": [],
   "source": [
    "# making 16 main blocks\n",
    "# size of single main block S= M/sqrt(16) X T=N/sqrt(16)\n",
    "# e.g for lena the 512x512 the partner blocks size would be 16 blocks each with size (512x512)/(4x4) = 128x128\n",
    "mainblock_shape = (int(imarr.shape[0]/4), int(imarr.shape[1]/4))\n",
    "mainblocks = make_blocks(imarr, mainblock_shape)\n",
    "\n",
    "# here the main blocks are like this index.\n",
    "# 1st index is the block number.\n",
    "# 2nd index is the channel (RGB) or 0 in Grey.\n",
    "# 3rd and 4th are for indexing the block.\n",
    "\n",
    "# Step3\n",
    "# Ab har main block ko divide karo k 4x4 k block ban jain\n",
    "# numberOfBlocks=(SxT)/(4x4)\n",
    "# e.g 128x128/4x4 = 1024\n",
    "\n",
    "avgblocks_shape = (4, 4)\n",
    "averages = np.zeros((16, int((mainblock_shape[0]*mainblock_shape[1]) /\n",
    "                              (avgblocks_shape[0]*avgblocks_shape[1]))), dtype=np.uint8)\n",
    "# 4 indicatior A,B,C,D, 4 blocks of A, then the 4x4 Blocks which have count = (SxT)/(4x4), e.g 1024\n",
    "\n",
    "for partner in lookup:  # A,B,C,D\n",
    "    for id in partner:  # A1,A2,A3.....D4 etc\n",
    "        averages[id] = make_blocks(mainblocks[id][0].copy(), avgblocks_shape,\n",
    "                                    addChannel=False).mean((1, 2))"
   ]
  },
  {
   "cell_type": "code",
   "execution_count": null,
   "metadata": {},
   "outputs": [],
   "source": [
    "averages.shape"
   ]
  },
  {
   "cell_type": "code",
   "execution_count": null,
   "metadata": {},
   "outputs": [],
   "source": [
    "Image.fromarray(averages.reshape(128,128))"
   ]
  },
  {
   "cell_type": "markdown",
   "metadata": {},
   "source": [
    "using new method"
   ]
  },
  {
   "cell_type": "code",
   "execution_count": null,
   "metadata": {},
   "outputs": [],
   "source": [
    "newaverages=cv2.resize(imarr,None, fx=0.25,fy=0.25,interpolation=cv2.INTER_AREA)\n",
    "newaverages.shape"
   ]
  },
  {
   "cell_type": "code",
   "execution_count": null,
   "metadata": {},
   "outputs": [],
   "source": [
    "kk=make_blocks(newaverages, (32,32), addChannel=False)\n",
    "kk.shape"
   ]
  },
  {
   "cell_type": "code",
   "execution_count": null,
   "metadata": {},
   "outputs": [],
   "source": [
    "kk=kk.reshape(16,-1)"
   ]
  },
  {
   "cell_type": "code",
   "execution_count": null,
   "metadata": {},
   "outputs": [],
   "source": [
    "Image.fromarray(kk.reshape(128,128))"
   ]
  },
  {
   "cell_type": "code",
   "execution_count": null,
   "metadata": {},
   "outputs": [],
   "source": [
    "zoomx = 4  # according to the paper the zoom factor is 4\n",
    "averages = cv2.resize(imarr, None, fx=1/zoomx, fy=1 /\n",
    "                      zoomx, interpolation=cv2.INTER_AREA)\n",
    "\n",
    "averages = make_blocks(\n",
    "    averages, (imarr.shape[0]//zoomx, imarr.shape[1]//zoomx), addChannel=False).reshape(16, -1)\n",
    "Image.fromarray(averages.reshape(128,128))"
   ]
  },
  {
   "cell_type": "code",
   "execution_count": null,
   "metadata": {},
   "outputs": [],
   "source": [
    "rc=tr.bits.recovery.make(imarr,lookup,key=\"\")"
   ]
  },
  {
   "cell_type": "code",
   "execution_count": null,
   "metadata": {},
   "outputs": [],
   "source": [
    "rc.shape"
   ]
  },
  {
   "cell_type": "code",
   "execution_count": null,
   "metadata": {},
   "outputs": [],
   "source": [
    "eimarr=tr.bits.recovery.embed(imarr, rc)\n",
    "eimarr.shape"
   ]
  },
  {
   "cell_type": "code",
   "execution_count": null,
   "metadata": {},
   "outputs": [],
   "source": [
    "Image.fromarray(eimarr)"
   ]
  },
  {
   "cell_type": "code",
   "execution_count": null,
   "metadata": {},
   "outputs": [],
   "source": [
    "ext=tr.bits.recovery.extract(eimarr, key=\"\")\n",
    "ext.shape"
   ]
  },
  {
   "cell_type": "code",
   "execution_count": null,
   "metadata": {},
   "outputs": [],
   "source": [
    "ext"
   ]
  },
  {
   "cell_type": "markdown",
   "metadata": {},
   "source": [
    "from recovery bits to the orignal image"
   ]
  },
  {
   "cell_type": "code",
   "execution_count": null,
   "metadata": {},
   "outputs": [],
   "source": [
    "aut = tr.authenticate(imarr)\n"
   ]
  },
  {
   "cell_type": "code",
   "execution_count": null,
   "metadata": {},
   "outputs": [],
   "source": [
    "aut.tempred.shape"
   ]
  },
  {
   "cell_type": "code",
   "execution_count": null,
   "metadata": {},
   "outputs": [],
   "source": [
    "tempred=~aut.tempred"
   ]
  },
  {
   "cell_type": "code",
   "execution_count": null,
   "metadata": {},
   "outputs": [],
   "source": [
    "tempred=np.zeros(tempred.shape,dtype=bool)"
   ]
  },
  {
   "cell_type": "code",
   "execution_count": null,
   "metadata": {},
   "outputs": [],
   "source": [
    "averages=np.zeros((16,8192),  dtype=np.uint8)"
   ]
  },
  {
   "cell_type": "code",
   "execution_count": null,
   "metadata": {},
   "outputs": [],
   "source": [
    "mask=aut.maskarr.copy()"
   ]
  },
  {
   "cell_type": "code",
   "execution_count": null,
   "metadata": {},
   "outputs": [],
   "source": [
    "mask[0][0]=123"
   ]
  },
  {
   "cell_type": "code",
   "execution_count": null,
   "metadata": {},
   "outputs": [],
   "source": [
    "mask.astype(bool)"
   ]
  },
  {
   "cell_type": "code",
   "execution_count": null,
   "metadata": {},
   "outputs": [],
   "source": [
    "lookup"
   ]
  },
  {
   "cell_type": "code",
   "execution_count": null,
   "metadata": {},
   "outputs": [],
   "source": [
    "lst=np.zeros((16,4), dtype=np.uint8)\n",
    "for idx,partner in enumerate(lookup):\n",
    "  for id in partner:\n",
    "    f=[id]\n",
    "    f.extend([i for i in partner if i!=id])\n",
    "    lst[id]=f"
   ]
  },
  {
   "cell_type": "code",
   "execution_count": null,
   "metadata": {},
   "outputs": [],
   "source": [
    "lookup"
   ]
  },
  {
   "cell_type": "code",
   "execution_count": null,
   "metadata": {},
   "outputs": [],
   "source": [
    "lst"
   ]
  },
  {
   "cell_type": "code",
   "execution_count": null,
   "metadata": {},
   "outputs": [],
   "source": [
    "recovery_bits=ext"
   ]
  },
  {
   "cell_type": "code",
   "execution_count": null,
   "metadata": {},
   "outputs": [],
   "source": [
    "for partner in range(lookup.shape[0]):  # A,B,C,D\n",
    "  for id in range(lookup.shape[1]):  # A1,A2,A3.....D4 etc\n",
    "    # get the partner block of this id also the id it sits\n",
    "        partner_block = -1, -1\n",
    "        for i in range(lookup[partner].shape[0]):\n",
    "            # if this id isn't tempred, we can stop\n",
    "            if i != id and not np.any(tempred[lookup[partner, i]]):\n",
    "                partner_block = partner, i\n",
    "                break\n",
    "\n",
    "        if partner_block == (-1, -1):\n",
    "            print(\n",
    "                \"Could not find partner block for {} {}\".format(partner, id))\n",
    "            continue\n",
    "        \n",
    "        # get recovery bits of this id\n",
    "        # get index of this id in the partner block\n",
    "        idx = id\n",
    "        if partner_block[1] < id:\n",
    "            idx -= 1\n",
    "        print((partner,id),partner_block,lookup[partner_block])\n",
    "        print(\"start: \", idx*recovery_bits.shape[1]//3,\" end: \",idx*recovery_bits.shape[1]//3+recovery_bits.shape[1]//3)\n",
    "        averages[lookup[(partner,id)]]=recovery_bits[lookup[partner_block],\n",
    "                                                          idx*recovery_bits.shape[1]//3:idx*recovery_bits.shape[1]//3+recovery_bits.shape[1]//3]\n",
    "        "
   ]
  },
  {
   "cell_type": "code",
   "execution_count": null,
   "metadata": {},
   "outputs": [],
   "source": [
    "recovery_bits[15]"
   ]
  },
  {
   "cell_type": "code",
   "execution_count": null,
   "metadata": {},
   "outputs": [],
   "source": [
    "partner_block"
   ]
  },
  {
   "cell_type": "code",
   "execution_count": null,
   "metadata": {},
   "outputs": [],
   "source": [
    "averages[15]"
   ]
  },
  {
   "cell_type": "code",
   "execution_count": null,
   "metadata": {},
   "outputs": [],
   "source": [
    "averages.shape"
   ]
  },
  {
   "cell_type": "code",
   "execution_count": null,
   "metadata": {},
   "outputs": [],
   "source": [
    "averages2=np.packbits(averages, axis=1)"
   ]
  },
  {
   "cell_type": "code",
   "execution_count": null,
   "metadata": {},
   "outputs": [],
   "source": [
    "aut.maskarr"
   ]
  },
  {
   "cell_type": "code",
   "execution_count": null,
   "metadata": {},
   "outputs": [],
   "source": [
    "averages2"
   ]
  },
  {
   "cell_type": "code",
   "execution_count": null,
   "metadata": {},
   "outputs": [],
   "source": [
    "Image.fromarray(averages2.reshape((128,128),-1))"
   ]
  },
  {
   "cell_type": "code",
   "execution_count": null,
   "metadata": {},
   "outputs": [],
   "source": [
    "recreated=cv2.resize(averages2.reshape(128,128),None, fx=4,fy=4,interpolation=cv2.INTER_LANCZOS4)"
   ]
  },
  {
   "cell_type": "code",
   "execution_count": null,
   "metadata": {},
   "outputs": [],
   "source": [
    "Image.fromarray(recreated)"
   ]
  }
 ],
 "metadata": {
  "kernelspec": {
   "display_name": "Python 3.10.4 64-bit",
   "language": "python",
   "name": "python3"
  },
  "language_info": {
   "codemirror_mode": {
    "name": "ipython",
    "version": 3
   },
   "file_extension": ".py",
   "mimetype": "text/x-python",
   "name": "python",
   "nbconvert_exporter": "python",
   "pygments_lexer": "ipython3",
   "version": "3.10.4"
  },
  "orig_nbformat": 4,
  "vscode": {
   "interpreter": {
    "hash": "916dbcbb3f70747c44a77c7bcd40155683ae19c65e1c03b4aa3499c5328201f1"
   }
  }
 },
 "nbformat": 4,
 "nbformat_minor": 2
}
