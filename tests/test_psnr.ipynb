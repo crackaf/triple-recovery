{
 "cells": [
  {
   "cell_type": "code",
   "execution_count": null,
   "metadata": {},
   "outputs": [],
   "source": [
    "import numpy as np\n",
    "import pandas as pd\n",
    "import cv2\n",
    "import time\n",
    "from skimage.metrics import structural_similarity as ssim\n",
    "import triplerecovery as tr\n",
    "from PIL import Image\n",
    "from os import walk"
   ]
  },
  {
   "cell_type": "code",
   "execution_count": null,
   "metadata": {},
   "outputs": [],
   "source": [
    "openmode, modestr=cv2.IMREAD_COLOR, 'rgb'\n",
    "dir_path='./images/standard/'\n",
    "output_path='./psnr_results/'"
   ]
  },
  {
   "cell_type": "code",
   "execution_count": null,
   "metadata": {},
   "outputs": [],
   "source": [
    "files = []\n",
    "for (dir_path, dir_names, file_names) in walk(dir_path):\n",
    "    files.extend([dir_path+\"/\"+f for f in file_names])\n",
    "len(files)"
   ]
  },
  {
   "cell_type": "code",
   "execution_count": null,
   "metadata": {},
   "outputs": [],
   "source": [
    "files[-5]"
   ]
  },
  {
   "cell_type": "code",
   "execution_count": null,
   "metadata": {},
   "outputs": [],
   "source": [
    "columns = ['file','mode','size','test' ,'psnr_watermarked','ssmi_watermarked','time_watermark', 'psnr_edited','time_authenticate','psnr_recovered','ssmi_recovered','time_recovered']"
   ]
  },
  {
   "cell_type": "code",
   "execution_count": null,
   "metadata": {},
   "outputs": [],
   "source": [
    "df = pd.DataFrame(columns=columns)"
   ]
  },
  {
   "cell_type": "code",
   "execution_count": null,
   "metadata": {},
   "outputs": [],
   "source": [
    "def get_len(l, size):\n",
    "  return int(l*(size/100))"
   ]
  },
  {
   "cell_type": "markdown",
   "metadata": {},
   "source": [
    "First tests for the 75%"
   ]
  },
  {
   "cell_type": "code",
   "execution_count": null,
   "metadata": {},
   "outputs": [],
   "source": [
    "# start x start y and end x end y. all are in percentages\n",
    "tests75=[\n",
    "  [[0,0,75,100]],# Left zone LZ\n",
    "  [[0,25,100,100]],# Bottom zone BZ\n",
    "  [[25,0,100,100]],# Right zone RZ\n",
    "  [[0,0,100,75]],#f Top zone TZ\n",
    "  [[26,0,74,100],\n",
    "   [0,26,100,74]],# Center zone CZ\n",
    "  [[0,0,100,25],\n",
    "   [0,0,25,100],\n",
    "   [75,0,100,100],\n",
    "   [0,75,100,100]]#  qouter zone OZ\n",
    "]\n",
    "tests75_names=['75_LZ','75_BZ','75_RZ','75_TZ','75_CZ','75_OZ']\n",
    "\n",
    "tests50=[\n",
    "  [[0,0,100,50]],# Top zone TZ\n",
    "  [[0,0,50,100]],# Left zone LZ\n",
    "  [[25,0,75,100]],# Verticle Center zone VCZ\n",
    "  [[0,25,100,75]],# Horizontal center zone HCZ\n",
    "  [[0,0,25,100],\n",
    "   [75,0,100,100]],# left right zone LRZ\n",
    "  [[0,0,50,50],\n",
    "   [50,50,100,100]]# up-left down-right zone  ULDRZ\n",
    "]\n",
    "tests50_names=['50_TZ','50_LZ','50_VCZ','50_HCZ','50_LRZ','50_ULDRZ']\n",
    "\n",
    "tests25=[\n",
    "  [[25,25,75,75]],# center zone CZ\n",
    "  [[0,0,50,50]],# up-left zone UL\n",
    "  [[50,25,100,75]],# center right zone CRZ\n",
    "  [[0,25,50,75]],# center left zone CLZ\n",
    "  [[25,0,75,50]],# center up zone CUZ\n",
    "  [[0,25,25,50],\n",
    "   [75,25,100,50],\n",
    "   [25,75,75,100]],# different zone 1 DZ1\n",
    "  [[0,0,25,25],\n",
    "   [75,0,100,25],\n",
    "   [0,50,25,75],\n",
    "   [75,50,100,75]]# different zone 2 DZ2\n",
    "]\n",
    "tests25_names=['25_CZ','25_UL','25_CRZ','25_CLZ','25_CUZ','25_DZ1','25_DZ2']\n",
    "\n",
    "tests=[(tests75,tests75_names),(tests50,tests50_names),(tests25,tests25_names)]"
   ]
  },
  {
   "cell_type": "markdown",
   "metadata": {},
   "source": [
    "trying on single image"
   ]
  },
  {
   "cell_type": "code",
   "execution_count": null,
   "metadata": {},
   "outputs": [],
   "source": [
    "files"
   ]
  },
  {
   "cell_type": "code",
   "execution_count": null,
   "metadata": {},
   "outputs": [],
   "source": [
    "# files=['./images/standard//mandril_color.tif','./images/standard//cat.jpg','./images/standard//peppers_color.tif','./images/standard//yourname.png', './images/standard//lena_color_512.tif', './images/standard//lena_color_256.tif', './images/standard//art.png']\n",
    "files=['./images/standard/miku.jpg']"
   ]
  },
  {
   "cell_type": "code",
   "execution_count": null,
   "metadata": {},
   "outputs": [],
   "source": [
    "# f=files[2]\n",
    "# f"
   ]
  },
  {
   "cell_type": "code",
   "execution_count": null,
   "metadata": {},
   "outputs": [],
   "source": [
    "for f in files:\n",
    "  print(f)\n",
    "  imarr=cv2.imread(f, openmode)\n",
    "  try:\n",
    "    w= tr.embed(imarr.copy())\n",
    "    cv2.imwrite(output_path+f.split('//')[-1].split('.')[0]+'_'+modestr+'_watermarked.png',w.imarr)\n",
    "\n",
    "    for alpha in tests:\n",
    "      for t in range(len(alpha[0])):\n",
    "        test=alpha[0][t]\n",
    "        imarr_watermarked =w.imarr.copy()\n",
    "        psnr_watermarked=cv2.PSNR(imarr,imarr_watermarked)\n",
    "        ssmi_watermarked=ssim(imarr,imarr_watermarked,channel_axis=2)\n",
    "        time_watermark=w.time\n",
    "\n",
    "        for k in range (len(test)):\n",
    "          for i in range(get_len(imarr.shape[1],test[k][0]),get_len(imarr.shape[1],test[k][2])):\n",
    "            for j in range(get_len(imarr.shape[0],test[k][1]),get_len(imarr.shape[0],test[k][3])):\n",
    "              if imarr_watermarked.ndim>2:\n",
    "                imarr_watermarked[j,i,:]=0\n",
    "              else:imarr_watermarked[j,i]=0\n",
    "              \n",
    "        psnr_edited=cv2.PSNR(imarr,imarr_watermarked)\n",
    "        a=tr.authenticate(imarr_watermarked.copy())\n",
    "        r=tr.recover(imarr_watermarked)\n",
    "        imarr_recovered=r.imarr\n",
    "        time_recovered=r.time\n",
    "        psnr_recovered= cv2.PSNR(imarr,imarr_recovered)\n",
    "        ssmi_recovered=ssim(imarr,imarr_recovered,channel_axis=2)\n",
    "        # inseart to the dataframe\n",
    "        df.loc[len(df)] = [f,modestr,str(imarr.shape),alpha[1][t],psnr_watermarked,ssmi_watermarked,time_watermark,psnr_edited,a.time,psnr_recovered,ssmi_recovered,time_recovered]\n",
    "\n",
    "        # saving files to there own folder\n",
    "        # cv2.imwrite(output_path+f.split('//')[-1].split('.')[0]+'_'+alpha[1][t]+'_watermarked.png',w.imarr)\n",
    "        cv2.imwrite(output_path+f.split('//')[-1].split('.')[0]+'_'+alpha[1][t]+'_'+modestr+'_edited.png',imarr_watermarked)\n",
    "        cv2.imwrite(output_path+f.split('//')[-1].split('.')[0]+'_'+alpha[1][t]+'_'+modestr+'_mask.png',a.maskarr)\n",
    "        cv2.imwrite(output_path+f.split('//')[-1].split('.')[0]+'_'+alpha[1][t]+'_'+modestr+'_recovered.png',imarr_recovered)\n",
    "  except Exception as e:\n",
    "      print(\"error\",f, imarr.shape)\n",
    "      print(e)\n",
    "  df.to_csv(output_path+str(int(time.time()))+'_'+modestr+'psnr_results.csv',index=False)\n"
   ]
  },
  {
   "cell_type": "code",
   "execution_count": null,
   "metadata": {},
   "outputs": [],
   "source": []
  },
  {
   "cell_type": "code",
   "execution_count": null,
   "metadata": {},
   "outputs": [],
   "source": [
    "df.to_csv(output_path+str(int(time.time()))+'_'+modestr+'psnr_results.csv',index=False)"
   ]
  }
 ],
 "metadata": {
  "kernelspec": {
   "display_name": "Python 3.10.4 64-bit",
   "language": "python",
   "name": "python3"
  },
  "language_info": {
   "codemirror_mode": {
    "name": "ipython",
    "version": 3
   },
   "file_extension": ".py",
   "mimetype": "text/x-python",
   "name": "python",
   "nbconvert_exporter": "python",
   "pygments_lexer": "ipython3",
   "version": "3.10.4"
  },
  "orig_nbformat": 4,
  "vscode": {
   "interpreter": {
    "hash": "916dbcbb3f70747c44a77c7bcd40155683ae19c65e1c03b4aa3499c5328201f1"
   }
  }
 },
 "nbformat": 4,
 "nbformat_minor": 2
}
